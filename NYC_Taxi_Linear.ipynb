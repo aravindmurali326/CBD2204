{
  "nbformat": 4,
  "nbformat_minor": 0,
  "metadata": {
    "colab": {
      "name": "NYC_Taxi_Linear.ipynb",
      "provenance": [],
      "collapsed_sections": []
    },
    "kernelspec": {
      "name": "python3",
      "display_name": "Python 3"
    },
    "language_info": {
      "name": "python"
    }
  },
  "cells": [
    {
      "cell_type": "markdown",
      "metadata": {
        "id": "g3VelxBFFRxC"
      },
      "source": [
        ""
      ]
    },
    {
      "cell_type": "code",
      "metadata": {
        "id": "2scdmH9GFrrH"
      },
      "source": [
        "# Aparna Dileep (C0787339) \n",
        "# Aravind Murali Thricovil (C0819326) \n",
        "# Parvathy Rahul Menon (C0814633)\n",
        "# Jaison Kayamkattil Jacob (C0814631)\n",
        "# Prasanth Moothedath Padmakumar (C0796752)\n",
        "\n",
        "# Dataset File downloaded from https://www.kaggle.com/c/nyc-taxi-trip-duration/overview\n",
        "# Dataset Page New York City Taxi Trip Duration\n",
        "# Data Fields: id - a unique identifier for each trip\n",
        "# vendor_id - a code indicating the provider associated with the trip record\n",
        "# pickup_datetime - date and time when the meter was engaged\n",
        "# dropoff_datetime - date and time when the meter was disengaged\n",
        "# passenger_count - the number of passengers in the vehicle (driver entered value)\n",
        "# pickup_longitude - the longitude where the meter was engaged\n",
        "# pickup_latitude - the latitude where the meter was engaged\n",
        "# dropoff_longitude - the longitude where the meter was disengaged\n",
        "# dropoff_latitude - the latitude where the meter was disengaged\n",
        "# store_and_fwd_flag - This flag indicates whether the trip record was held in #\n",
        "# vehicle memory before sending to the vendor because the vehicle did not have a connection to the server - \n",
        "# Y=store and forward;\n",
        "# N=not a store and forward trip\n",
        "# trip_duration - duration of the trip in seconds"
      ],
      "execution_count": null,
      "outputs": []
    },
    {
      "cell_type": "code",
      "metadata": {
        "id": "4as007CUwACA"
      },
      "source": [
        "! pip install -q kaggle"
      ],
      "execution_count": null,
      "outputs": []
    },
    {
      "cell_type": "code",
      "metadata": {
        "colab": {
          "resources": {
            "http://localhost:8080/nbextensions/google.colab/files.js": {
              "data": "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",
              "ok": true,
              "headers": [
                [
                  "content-type",
                  "application/javascript"
                ]
              ],
              "status": 200,
              "status_text": ""
            }
          },
          "base_uri": "https://localhost:8080/",
          "height": 91
        },
        "id": "Y9XtGuglwHRH",
        "outputId": "c6ad2fe5-7349-400b-89e5-3935b0edcc29"
      },
      "source": [
        "from google.colab import files\n",
        "files.upload()"
      ],
      "execution_count": null,
      "outputs": [
        {
          "output_type": "display_data",
          "data": {
            "text/html": [
              "\n",
              "     <input type=\"file\" id=\"files-64f2f0b6-e08f-40ba-ba0a-c716ccaf4582\" name=\"files[]\" multiple disabled\n",
              "        style=\"border:none\" />\n",
              "     <output id=\"result-64f2f0b6-e08f-40ba-ba0a-c716ccaf4582\">\n",
              "      Upload widget is only available when the cell has been executed in the\n",
              "      current browser session. Please rerun this cell to enable.\n",
              "      </output>\n",
              "      <script src=\"/nbextensions/google.colab/files.js\"></script> "
            ],
            "text/plain": [
              "<IPython.core.display.HTML object>"
            ]
          },
          "metadata": {}
        },
        {
          "output_type": "stream",
          "name": "stdout",
          "text": [
            "Saving kaggle.json to kaggle.json\n"
          ]
        },
        {
          "output_type": "execute_result",
          "data": {
            "text/plain": [
              "{'kaggle.json': b'{\"username\":\"pargan\",\"key\":\"15f2c0b97ad49960d89c53e9014f7754\"}'}"
            ]
          },
          "metadata": {},
          "execution_count": 2
        }
      ]
    },
    {
      "cell_type": "code",
      "metadata": {
        "id": "MCxmjQnkwJ6X"
      },
      "source": [
        "! mkdir ~/.kaggle"
      ],
      "execution_count": null,
      "outputs": []
    },
    {
      "cell_type": "code",
      "metadata": {
        "id": "jR_DZrEKwNI3"
      },
      "source": [
        "! cp kaggle.json ~/.kaggle/"
      ],
      "execution_count": null,
      "outputs": []
    },
    {
      "cell_type": "code",
      "metadata": {
        "id": "YbtG55QHwQX-"
      },
      "source": [
        "! chmod 600 ~/.kaggle/kaggle.json"
      ],
      "execution_count": null,
      "outputs": []
    },
    {
      "cell_type": "code",
      "metadata": {
        "colab": {
          "base_uri": "https://localhost:8080/"
        },
        "id": "WAAhoh-JwSbf",
        "outputId": "be8b1513-2a97-457c-d372-0311bddad777"
      },
      "source": [
        "! kaggle datasets list"
      ],
      "execution_count": null,
      "outputs": [
        {
          "output_type": "stream",
          "name": "stdout",
          "text": [
            "Warning: Looks like you're using an outdated API Version, please consider updating (server 1.5.12 / client 1.5.4)\n",
            "ref                                                         title                                              size  lastUpdated          downloadCount  \n",
            "----------------------------------------------------------  ------------------------------------------------  -----  -------------------  -------------  \n",
            "gpreda/reddit-vaccine-myths                                 Reddit Vaccine Myths                              237KB  2021-11-10 18:11:20          15543  \n",
            "crowww/a-large-scale-fish-dataset                           A Large Scale Fish Dataset                          3GB  2021-04-28 17:03:01           9441  \n",
            "imsparsh/musicnet-dataset                                   MusicNet Dataset                                   22GB  2021-02-18 14:12:19           4227  \n",
            "dhruvildave/wikibooks-dataset                               Wikibooks Dataset                                   2GB  2021-10-22 10:48:21           3449  \n",
            "promptcloud/careerbuilder-job-listing-2020                  Careerbuilder Job Listing 2020                     42MB  2021-03-05 06:59:52           2616  \n",
            "nickuzmenkov/nih-chest-xrays-tfrecords                      NIH Chest X-rays TFRecords                         11GB  2021-03-09 04:49:23           1561  \n",
            "fatiimaezzahra/famous-iconic-women                          Famous Iconic Women                               838MB  2021-02-28 14:56:00           1830  \n",
            "alsgroup/end-als                                            End ALS Kaggle Challenge                           12GB  2021-04-08 12:16:37           1077  \n",
            "simiotic/github-code-snippets                               GitHub Code Snippets                                7GB  2021-03-03 11:34:39            477  \n",
            "mathurinache/twitter-edge-nodes                             Twitter Edge Nodes                                342MB  2021-03-08 06:43:04           1268  \n",
            "mathurinache/the-lj-speech-dataset                          The LJ Speech Dataset                               3GB  2021-02-15 09:19:54            464  \n",
            "coloradokb/dandelionimages                                  DandelionImages                                     4GB  2021-02-19 20:03:47           1010  \n",
            "stuartjames/lights                                          LightS: Light Specularity Dataset                  18GB  2021-02-18 14:32:26            199  \n",
            "imsparsh/accentdb-core-extended                             AccentDB - Core & Extended                          6GB  2021-02-17 14:22:54            176  \n",
            "nickuzmenkov/ranzcr-clip-kfold-tfrecords                    RANZCR CLiP KFold TFRecords                         2GB  2021-02-21 13:29:51            160  \n",
            "landrykezebou/lvzhdr-tone-mapping-benchmark-dataset-tmonet  LVZ-HDR Tone Mapping Benchmark Dataset (TMO-Net)   24GB  2021-03-01 05:03:40            227  \n",
            "datasnaek/youtube-new                                       Trending YouTube Video Statistics                 201MB  2019-06-03 00:56:47         157570  \n",
            "zynicide/wine-reviews                                       Wine Reviews                                       51MB  2017-11-27 17:08:04         148179  \n",
            "datasnaek/chess                                             Chess Game Dataset (Lichess)                        3MB  2017-09-04 03:09:09          24685  \n",
            "residentmario/ramen-ratings                                 Ramen Ratings                                      40KB  2018-01-11 16:04:39          29596  \n"
          ]
        }
      ]
    },
    {
      "cell_type": "code",
      "metadata": {
        "colab": {
          "base_uri": "https://localhost:8080/"
        },
        "id": "OmlRPTHuwVgP",
        "outputId": "5adbd21e-7634-47a0-f2c8-9edefd0fedc0"
      },
      "source": [
        "! kaggle competitions download -c nyc-taxi-trip-duration"
      ],
      "execution_count": null,
      "outputs": [
        {
          "output_type": "stream",
          "name": "stdout",
          "text": [
            "Warning: Looks like you're using an outdated API Version, please consider updating (server 1.5.12 / client 1.5.4)\n",
            "Downloading train.zip to /content\n",
            " 78% 49.0M/62.9M [00:00<00:00, 42.6MB/s]\n",
            "100% 62.9M/62.9M [00:00<00:00, 85.8MB/s]\n",
            "Downloading sample_submission.zip to /content\n",
            "  0% 0.00/2.49M [00:00<?, ?B/s]\n",
            "100% 2.49M/2.49M [00:00<00:00, 146MB/s]\n",
            "Downloading test.zip to /content\n",
            " 25% 5.00M/20.3M [00:00<00:00, 22.6MB/s]\n",
            "100% 20.3M/20.3M [00:00<00:00, 67.9MB/s]\n"
          ]
        }
      ]
    },
    {
      "cell_type": "code",
      "metadata": {
        "id": "zEL6LX7nwZxX"
      },
      "source": [
        "! mkdir train"
      ],
      "execution_count": null,
      "outputs": []
    },
    {
      "cell_type": "code",
      "metadata": {
        "colab": {
          "base_uri": "https://localhost:8080/"
        },
        "id": "xiMk7NKDwb24",
        "outputId": "0b4e50c2-c5d2-4554-c208-2f9ff9ae9e97"
      },
      "source": [
        "! unzip train.zip -d train"
      ],
      "execution_count": null,
      "outputs": [
        {
          "output_type": "stream",
          "name": "stdout",
          "text": [
            "Archive:  train.zip\n",
            "  inflating: train/train.csv         \n"
          ]
        }
      ]
    },
    {
      "cell_type": "code",
      "metadata": {
        "colab": {
          "base_uri": "https://localhost:8080/"
        },
        "id": "35DAAm3fwfrI",
        "outputId": "13ea7477-f160-498c-81b2-545e84b9f23e"
      },
      "source": [
        "! mkdir test"
      ],
      "execution_count": null,
      "outputs": [
        {
          "output_type": "stream",
          "name": "stdout",
          "text": [
            "mkdir: cannot create directory ‘test’: File exists\n"
          ]
        }
      ]
    },
    {
      "cell_type": "code",
      "metadata": {
        "colab": {
          "base_uri": "https://localhost:8080/"
        },
        "id": "lUPq2z5HwhgG",
        "outputId": "b17ef95a-678f-4203-cdb9-2c53abf54103"
      },
      "source": [
        "! unzip test.zip -d test"
      ],
      "execution_count": null,
      "outputs": [
        {
          "output_type": "stream",
          "name": "stdout",
          "text": [
            "Archive:  test.zip\n",
            "replace test/test.csv? [y]es, [n]o, [A]ll, [N]one, [r]ename: n\n"
          ]
        }
      ]
    },
    {
      "cell_type": "code",
      "metadata": {
        "colab": {
          "base_uri": "https://localhost:8080/"
        },
        "id": "EDF7zDYlwmue",
        "outputId": "604dea21-9007-448a-916c-0fba9f4c99e0"
      },
      "source": [
        "! mkdir sample_submission"
      ],
      "execution_count": null,
      "outputs": [
        {
          "output_type": "stream",
          "name": "stdout",
          "text": [
            "mkdir: cannot create directory ‘sample_submission’: File exists\n"
          ]
        }
      ]
    },
    {
      "cell_type": "code",
      "metadata": {
        "colab": {
          "base_uri": "https://localhost:8080/"
        },
        "id": "DDm2NvRmwzpm",
        "outputId": "eff5185b-4847-4454-e95c-3a30bbc5948b"
      },
      "source": [
        "! unzip sample_submission.zip -d sample_submission"
      ],
      "execution_count": null,
      "outputs": [
        {
          "output_type": "stream",
          "name": "stdout",
          "text": [
            "Archive:  sample_submission.zip\n",
            "  inflating: sample_submission/sample_submission.csv  \n"
          ]
        }
      ]
    },
    {
      "cell_type": "code",
      "metadata": {
        "id": "S_2HUgaAw3qm"
      },
      "source": [
        "#importing required packages\n",
        "import pandas as pd\n",
        "import numpy as np\n",
        "import matplotlib.pyplot as plt\n",
        "import seaborn as sns"
      ],
      "execution_count": null,
      "outputs": []
    },
    {
      "cell_type": "code",
      "metadata": {
        "colab": {
          "base_uri": "https://localhost:8080/",
          "height": 308
        },
        "id": "97rmMXVKw5Ze",
        "outputId": "54751b16-e293-429e-982b-bc6074df3965"
      },
      "source": [
        "df = pd.read_csv('train.csv')\n",
        "df.head() #Displaying top 5 rows"
      ],
      "execution_count": null,
      "outputs": [
        {
          "output_type": "execute_result",
          "data": {
            "text/html": [
              "<div>\n",
              "<style scoped>\n",
              "    .dataframe tbody tr th:only-of-type {\n",
              "        vertical-align: middle;\n",
              "    }\n",
              "\n",
              "    .dataframe tbody tr th {\n",
              "        vertical-align: top;\n",
              "    }\n",
              "\n",
              "    .dataframe thead th {\n",
              "        text-align: right;\n",
              "    }\n",
              "</style>\n",
              "<table border=\"1\" class=\"dataframe\">\n",
              "  <thead>\n",
              "    <tr style=\"text-align: right;\">\n",
              "      <th></th>\n",
              "      <th>id</th>\n",
              "      <th>vendor_id</th>\n",
              "      <th>pickup_datetime</th>\n",
              "      <th>dropoff_datetime</th>\n",
              "      <th>passenger_count</th>\n",
              "      <th>pickup_longitude</th>\n",
              "      <th>pickup_latitude</th>\n",
              "      <th>dropoff_longitude</th>\n",
              "      <th>dropoff_latitude</th>\n",
              "      <th>store_and_fwd_flag</th>\n",
              "      <th>trip_duration</th>\n",
              "    </tr>\n",
              "  </thead>\n",
              "  <tbody>\n",
              "    <tr>\n",
              "      <th>0</th>\n",
              "      <td>id2875421</td>\n",
              "      <td>2</td>\n",
              "      <td>2016-03-14 17:24:55</td>\n",
              "      <td>2016-03-14 17:32:30</td>\n",
              "      <td>1</td>\n",
              "      <td>-73.982155</td>\n",
              "      <td>40.767937</td>\n",
              "      <td>-73.964630</td>\n",
              "      <td>40.765602</td>\n",
              "      <td>N</td>\n",
              "      <td>455</td>\n",
              "    </tr>\n",
              "    <tr>\n",
              "      <th>1</th>\n",
              "      <td>id2377394</td>\n",
              "      <td>1</td>\n",
              "      <td>2016-06-12 00:43:35</td>\n",
              "      <td>2016-06-12 00:54:38</td>\n",
              "      <td>1</td>\n",
              "      <td>-73.980415</td>\n",
              "      <td>40.738564</td>\n",
              "      <td>-73.999481</td>\n",
              "      <td>40.731152</td>\n",
              "      <td>N</td>\n",
              "      <td>663</td>\n",
              "    </tr>\n",
              "    <tr>\n",
              "      <th>2</th>\n",
              "      <td>id3858529</td>\n",
              "      <td>2</td>\n",
              "      <td>2016-01-19 11:35:24</td>\n",
              "      <td>2016-01-19 12:10:48</td>\n",
              "      <td>1</td>\n",
              "      <td>-73.979027</td>\n",
              "      <td>40.763939</td>\n",
              "      <td>-74.005333</td>\n",
              "      <td>40.710087</td>\n",
              "      <td>N</td>\n",
              "      <td>2124</td>\n",
              "    </tr>\n",
              "    <tr>\n",
              "      <th>3</th>\n",
              "      <td>id3504673</td>\n",
              "      <td>2</td>\n",
              "      <td>2016-04-06 19:32:31</td>\n",
              "      <td>2016-04-06 19:39:40</td>\n",
              "      <td>1</td>\n",
              "      <td>-74.010040</td>\n",
              "      <td>40.719971</td>\n",
              "      <td>-74.012268</td>\n",
              "      <td>40.706718</td>\n",
              "      <td>N</td>\n",
              "      <td>429</td>\n",
              "    </tr>\n",
              "    <tr>\n",
              "      <th>4</th>\n",
              "      <td>id2181028</td>\n",
              "      <td>2</td>\n",
              "      <td>2016-03-26 13:30:55</td>\n",
              "      <td>2016-03-26 13:38:10</td>\n",
              "      <td>1</td>\n",
              "      <td>-73.973053</td>\n",
              "      <td>40.793209</td>\n",
              "      <td>-73.972923</td>\n",
              "      <td>40.782520</td>\n",
              "      <td>N</td>\n",
              "      <td>435</td>\n",
              "    </tr>\n",
              "  </tbody>\n",
              "</table>\n",
              "</div>"
            ],
            "text/plain": [
              "          id  vendor_id  ... store_and_fwd_flag trip_duration\n",
              "0  id2875421          2  ...                  N           455\n",
              "1  id2377394          1  ...                  N           663\n",
              "2  id3858529          2  ...                  N          2124\n",
              "3  id3504673          2  ...                  N           429\n",
              "4  id2181028          2  ...                  N           435\n",
              "\n",
              "[5 rows x 11 columns]"
            ]
          },
          "metadata": {},
          "execution_count": 19
        }
      ]
    },
    {
      "cell_type": "code",
      "metadata": {
        "colab": {
          "base_uri": "https://localhost:8080/",
          "height": 308
        },
        "id": "Q0kCfYC-w68X",
        "outputId": "c9bd5562-a439-47d5-b6e4-138510abff60"
      },
      "source": [
        "df.tail() #bottom 5 rows"
      ],
      "execution_count": null,
      "outputs": [
        {
          "output_type": "execute_result",
          "data": {
            "text/html": [
              "<div>\n",
              "<style scoped>\n",
              "    .dataframe tbody tr th:only-of-type {\n",
              "        vertical-align: middle;\n",
              "    }\n",
              "\n",
              "    .dataframe tbody tr th {\n",
              "        vertical-align: top;\n",
              "    }\n",
              "\n",
              "    .dataframe thead th {\n",
              "        text-align: right;\n",
              "    }\n",
              "</style>\n",
              "<table border=\"1\" class=\"dataframe\">\n",
              "  <thead>\n",
              "    <tr style=\"text-align: right;\">\n",
              "      <th></th>\n",
              "      <th>id</th>\n",
              "      <th>vendor_id</th>\n",
              "      <th>pickup_datetime</th>\n",
              "      <th>dropoff_datetime</th>\n",
              "      <th>passenger_count</th>\n",
              "      <th>pickup_longitude</th>\n",
              "      <th>pickup_latitude</th>\n",
              "      <th>dropoff_longitude</th>\n",
              "      <th>dropoff_latitude</th>\n",
              "      <th>store_and_fwd_flag</th>\n",
              "      <th>trip_duration</th>\n",
              "    </tr>\n",
              "  </thead>\n",
              "  <tbody>\n",
              "    <tr>\n",
              "      <th>1458639</th>\n",
              "      <td>id2376096</td>\n",
              "      <td>2</td>\n",
              "      <td>2016-04-08 13:31:04</td>\n",
              "      <td>2016-04-08 13:44:02</td>\n",
              "      <td>4</td>\n",
              "      <td>-73.982201</td>\n",
              "      <td>40.745522</td>\n",
              "      <td>-73.994911</td>\n",
              "      <td>40.740170</td>\n",
              "      <td>N</td>\n",
              "      <td>778</td>\n",
              "    </tr>\n",
              "    <tr>\n",
              "      <th>1458640</th>\n",
              "      <td>id1049543</td>\n",
              "      <td>1</td>\n",
              "      <td>2016-01-10 07:35:15</td>\n",
              "      <td>2016-01-10 07:46:10</td>\n",
              "      <td>1</td>\n",
              "      <td>-74.000946</td>\n",
              "      <td>40.747379</td>\n",
              "      <td>-73.970184</td>\n",
              "      <td>40.796547</td>\n",
              "      <td>N</td>\n",
              "      <td>655</td>\n",
              "    </tr>\n",
              "    <tr>\n",
              "      <th>1458641</th>\n",
              "      <td>id2304944</td>\n",
              "      <td>2</td>\n",
              "      <td>2016-04-22 06:57:41</td>\n",
              "      <td>2016-04-22 07:10:25</td>\n",
              "      <td>1</td>\n",
              "      <td>-73.959129</td>\n",
              "      <td>40.768799</td>\n",
              "      <td>-74.004433</td>\n",
              "      <td>40.707371</td>\n",
              "      <td>N</td>\n",
              "      <td>764</td>\n",
              "    </tr>\n",
              "    <tr>\n",
              "      <th>1458642</th>\n",
              "      <td>id2714485</td>\n",
              "      <td>1</td>\n",
              "      <td>2016-01-05 15:56:26</td>\n",
              "      <td>2016-01-05 16:02:39</td>\n",
              "      <td>1</td>\n",
              "      <td>-73.982079</td>\n",
              "      <td>40.749062</td>\n",
              "      <td>-73.974632</td>\n",
              "      <td>40.757107</td>\n",
              "      <td>N</td>\n",
              "      <td>373</td>\n",
              "    </tr>\n",
              "    <tr>\n",
              "      <th>1458643</th>\n",
              "      <td>id1209952</td>\n",
              "      <td>1</td>\n",
              "      <td>2016-04-05 14:44:25</td>\n",
              "      <td>2016-04-05 14:47:43</td>\n",
              "      <td>1</td>\n",
              "      <td>-73.979538</td>\n",
              "      <td>40.781750</td>\n",
              "      <td>-73.972809</td>\n",
              "      <td>40.790585</td>\n",
              "      <td>N</td>\n",
              "      <td>198</td>\n",
              "    </tr>\n",
              "  </tbody>\n",
              "</table>\n",
              "</div>"
            ],
            "text/plain": [
              "                id  vendor_id  ... store_and_fwd_flag trip_duration\n",
              "1458639  id2376096          2  ...                  N           778\n",
              "1458640  id1049543          1  ...                  N           655\n",
              "1458641  id2304944          2  ...                  N           764\n",
              "1458642  id2714485          1  ...                  N           373\n",
              "1458643  id1209952          1  ...                  N           198\n",
              "\n",
              "[5 rows x 11 columns]"
            ]
          },
          "metadata": {},
          "execution_count": 20
        }
      ]
    },
    {
      "cell_type": "code",
      "metadata": {
        "colab": {
          "base_uri": "https://localhost:8080/"
        },
        "id": "B7_QaL8ow81W",
        "outputId": "272f8636-a584-40f9-8ccc-c63dc6d1f575"
      },
      "source": [
        "print(\"The shape of the dataset : Number oof rows = \",df.shape[0], \"And Number of Columns = \",df.shape[1])"
      ],
      "execution_count": null,
      "outputs": [
        {
          "output_type": "stream",
          "name": "stdout",
          "text": [
            "The shape of the dataset : Number oof rows =  1458644 And Number of Columns =  11\n"
          ]
        }
      ]
    },
    {
      "cell_type": "code",
      "metadata": {
        "id": "1CHgDE1Tw-mn"
      },
      "source": [
        "#Dropping unwanted Features :\n",
        "df.drop(['id'],axis=1,inplace = True)"
      ],
      "execution_count": null,
      "outputs": []
    },
    {
      "cell_type": "code",
      "metadata": {
        "colab": {
          "base_uri": "https://localhost:8080/",
          "height": 291
        },
        "id": "mH_M0ygvxAL5",
        "outputId": "dc33c0ef-8a3d-44ba-fd8f-dbf5befcf6fc"
      },
      "source": [
        "sns.kdeplot(data=df, x=\"trip_duration\")\n",
        "plt.show()"
      ],
      "execution_count": null,
      "outputs": [
        {
          "output_type": "display_data",
          "data": {
            "image/png": "[encoded data removed]",
            "text/plain": [
              "<Figure size 432x288 with 1 Axes>"
            ]
          },
          "metadata": {
            "needs_background": "light"
          }
        }
      ]
    },
    {
      "cell_type": "code",
      "metadata": {
        "colab": {
          "base_uri": "https://localhost:8080/"
        },
        "id": "u11uOhamxBtW",
        "outputId": "d2180621-1bc1-4465-dbbf-6730aa6976bd"
      },
      "source": [
        "df.trip_duration.describe()"
      ],
      "execution_count": null,
      "outputs": [
        {
          "output_type": "execute_result",
          "data": {
            "text/plain": [
              "count    1.458644e+06\n",
              "mean     9.594923e+02\n",
              "std      5.237432e+03\n",
              "min      1.000000e+00\n",
              "25%      3.970000e+02\n",
              "50%      6.620000e+02\n",
              "75%      1.075000e+03\n",
              "max      3.526282e+06\n",
              "Name: trip_duration, dtype: float64"
            ]
          },
          "metadata": {},
          "execution_count": 24
        }
      ]
    },
    {
      "cell_type": "code",
      "metadata": {
        "colab": {
          "base_uri": "https://localhost:8080/"
        },
        "id": "2eQRa-Q3xD7e",
        "outputId": "cbedaf3e-d605-4dd3-9a25-dc75ecd217a4"
      },
      "source": [
        "per = [0,10,20,30,40,50,60,70,80,90,100]\n",
        "for i in per:\n",
        "  print(i,\"th percentile value = \", np.percentile(df.trip_duration, i))"
      ],
      "execution_count": null,
      "outputs": [
        {
          "output_type": "stream",
          "name": "stdout",
          "text": [
            "0 th percentile value =  1.0\n",
            "10 th percentile value =  245.0\n",
            "20 th percentile value =  348.0\n",
            "30 th percentile value =  446.0\n",
            "40 th percentile value =  548.0\n",
            "50 th percentile value =  662.0\n",
            "60 th percentile value =  798.0\n",
            "70 th percentile value =  968.0\n",
            "80 th percentile value =  1208.0\n",
            "90 th percentile value =  1634.0\n",
            "100 th percentile value =  3526282.0\n"
          ]
        }
      ]
    },
    {
      "cell_type": "code",
      "metadata": {
        "colab": {
          "base_uri": "https://localhost:8080/"
        },
        "id": "YJXFBrzbxFV2",
        "outputId": "7d2b3d9e-adbc-479c-ef7a-effb193912f7"
      },
      "source": [
        "per = [0,1,2,3,4,5,6,7,8,9,10]\n",
        "for i in per:\n",
        "  print(i,\"th percentile value = \", np.percentile(df.trip_duration, i))"
      ],
      "execution_count": null,
      "outputs": [
        {
          "output_type": "stream",
          "name": "stdout",
          "text": [
            "0 th percentile value =  1.0\n",
            "1 th percentile value =  87.0\n",
            "2 th percentile value =  122.0\n",
            "3 th percentile value =  146.0\n",
            "4 th percentile value =  165.0\n",
            "5 th percentile value =  180.0\n",
            "6 th percentile value =  195.0\n",
            "7 th percentile value =  209.0\n",
            "8 th percentile value =  221.0\n",
            "9 th percentile value =  233.0\n",
            "10 th percentile value =  245.0\n"
          ]
        }
      ]
    },
    {
      "cell_type": "code",
      "metadata": {
        "colab": {
          "base_uri": "https://localhost:8080/"
        },
        "id": "FGRSaaPdxHFl",
        "outputId": "c89efd5e-02f9-4923-93db-edab2f5469fb"
      },
      "source": [
        "per = [90,91,92,93,94,95,96,97,98,99,100]\n",
        "for i in per:\n",
        "  print(i,\"th percentile value = \", np.percentile(df.trip_duration, i))"
      ],
      "execution_count": null,
      "outputs": [
        {
          "output_type": "stream",
          "name": "stdout",
          "text": [
            "90 th percentile value =  1634.0\n",
            "91 th percentile value =  1703.0\n",
            "92 th percentile value =  1780.0\n",
            "93 th percentile value =  1869.0\n",
            "94 th percentile value =  1975.0\n",
            "95 th percentile value =  2104.0\n",
            "96 th percentile value =  2273.0\n",
            "97 th percentile value =  2497.0\n",
            "98 th percentile value =  2829.0\n",
            "99 th percentile value =  3440.0\n",
            "100 th percentile value =  3526282.0\n"
          ]
        }
      ]
    },
    {
      "cell_type": "code",
      "metadata": {
        "colab": {
          "base_uri": "https://localhost:8080/"
        },
        "id": "mB8NYl7exKW_",
        "outputId": "446e0e81-0efd-4c6e-f981-63e48f8cf528"
      },
      "source": [
        "per = [99.1,99.2,99.3,99.4,99.5,99.6,99.7,99.8,99.9,100]\n",
        "for i in per:\n",
        "  print(i,\"th percentile value = \", np.percentile(df.trip_duration, i))"
      ],
      "execution_count": null,
      "outputs": [
        {
          "output_type": "stream",
          "name": "stdout",
          "text": [
            "99.1 th percentile value =  3540.0\n",
            "99.2 th percentile value =  3652.0\n",
            "99.3 th percentile value =  3782.0\n",
            "99.4 th percentile value =  3942.0\n",
            "99.5 th percentile value =  4139.0\n",
            "99.6 th percentile value =  4403.0\n",
            "99.7 th percentile value =  4764.070999999996\n",
            "99.8 th percentile value =  5551.71399999992\n",
            "99.9 th percentile value =  85128.35700000008\n",
            "100 th percentile value =  3526282.0\n"
          ]
        }
      ]
    },
    {
      "cell_type": "code",
      "metadata": {
        "id": "b-56EJ1fxMQ2"
      },
      "source": [
        "df = df[df['trip_duration']<=5552]\n",
        "df = df[df['trip_duration']>180]"
      ],
      "execution_count": null,
      "outputs": []
    },
    {
      "cell_type": "code",
      "metadata": {
        "colab": {
          "base_uri": "https://localhost:8080/",
          "height": 280
        },
        "id": "rMVnib1-xOVe",
        "outputId": "7c45771c-24d7-4f3d-9e4e-cf8c0060a164"
      },
      "source": [
        "sns.boxplot(x = 'store_and_fwd_flag',y=\"trip_duration\", hue=\"store_and_fwd_flag\",data=df, palette=\"Set3\")\n",
        "plt.show()"
      ],
      "execution_count": null,
      "outputs": [
        {
          "output_type": "display_data",
          "data": {
            "image/png": "[encoded data removed]",
            "text/plain": [
              "<Figure size 432x288 with 1 Axes>"
            ]
          },
          "metadata": {
            "needs_background": "light"
          }
        }
      ]
    },
    {
      "cell_type": "code",
      "metadata": {
        "colab": {
          "base_uri": "https://localhost:8080/",
          "height": 280
        },
        "id": "5wjVjLeXxQHe",
        "outputId": "b0d3a4da-faac-4402-b7ff-67aa3a06c391"
      },
      "source": [
        "sns.boxplot(x = 'store_and_fwd_flag',y=\"trip_duration\", hue=\"store_and_fwd_flag\",data=df, palette=\"Set3\",showfliers = False)\n",
        "plt.show()"
      ],
      "execution_count": null,
      "outputs": [
        {
          "output_type": "display_data",
          "data": {
            "image/png": "[encoded data removed]",
            "text/plain": [
              "<Figure size 432x288 with 1 Axes>"
            ]
          },
          "metadata": {
            "needs_background": "light"
          }
        }
      ]
    },
    {
      "cell_type": "code",
      "metadata": {
        "colab": {
          "base_uri": "https://localhost:8080/"
        },
        "id": "5hNoLacCxR8l",
        "outputId": "6f3d9914-9c4f-4d6e-a5e7-c953392303e5"
      },
      "source": [
        "df['store_and_fwd_flag'].value_counts()"
      ],
      "execution_count": null,
      "outputs": [
        {
          "output_type": "execute_result",
          "data": {
            "text/plain": [
              "N    1375134\n",
              "Y       7612\n",
              "Name: store_and_fwd_flag, dtype: int64"
            ]
          },
          "metadata": {},
          "execution_count": 32
        }
      ]
    },
    {
      "cell_type": "code",
      "metadata": {
        "colab": {
          "base_uri": "https://localhost:8080/",
          "height": 280
        },
        "id": "aRTEkIoKxUCw",
        "outputId": "b3b71316-197b-4537-881d-a99b468fbf8d"
      },
      "source": [
        "sns.kdeplot(data=df, x=\"trip_duration\", hue=\"store_and_fwd_flag\")\n",
        "plt.show()"
      ],
      "execution_count": null,
      "outputs": [
        {
          "output_type": "display_data",
          "data": {
            "image/png": "[encoded data removed]",
            "text/plain": [
              "<Figure size 432x288 with 1 Axes>"
            ]
          },
          "metadata": {
            "needs_background": "light"
          }
        }
      ]
    },
    {
      "cell_type": "code",
      "metadata": {
        "colab": {
          "base_uri": "https://localhost:8080/",
          "height": 280
        },
        "id": "3s-4eeETxY_Y",
        "outputId": "93ee010e-07b1-4840-ac6e-8b0bc0686ffd"
      },
      "source": [
        "sns.kdeplot(data=df[df['store_and_fwd_flag']=='N'], x=\"trip_duration\", hue=\"store_and_fwd_flag\")\n",
        "plt.show()"
      ],
      "execution_count": null,
      "outputs": [
        {
          "output_type": "display_data",
          "data": {
            "image/png": "[encoded data removed]",
            "text/plain": [
              "<Figure size 432x288 with 1 Axes>"
            ]
          },
          "metadata": {
            "needs_background": "light"
          }
        }
      ]
    },
    {
      "cell_type": "code",
      "metadata": {
        "colab": {
          "base_uri": "https://localhost:8080/",
          "height": 280
        },
        "id": "edkm2-8NxbPp",
        "outputId": "2fac9f82-2fe9-4650-969a-ad68ebf71370"
      },
      "source": [
        "sns.kdeplot(data=df[df['store_and_fwd_flag']=='Y'], x=\"trip_duration\", hue=\"store_and_fwd_flag\")\n",
        "plt.show()"
      ],
      "execution_count": null,
      "outputs": [
        {
          "output_type": "display_data",
          "data": {
            "image/png": "[encoded data removed]",
            "text/plain": [
              "<Figure size 432x288 with 1 Axes>"
            ]
          },
          "metadata": {
            "needs_background": "light"
          }
        }
      ]
    },
    {
      "cell_type": "code",
      "metadata": {
        "colab": {
          "base_uri": "https://localhost:8080/"
        },
        "id": "HDXubC7Zxc-n",
        "outputId": "fc45aa5b-cbfb-4eae-dccd-f7fb91508c87"
      },
      "source": [
        "df.vendor_id.value_counts()"
      ],
      "execution_count": null,
      "outputs": [
        {
          "output_type": "execute_result",
          "data": {
            "text/plain": [
              "2    739918\n",
              "1    642828\n",
              "Name: vendor_id, dtype: int64"
            ]
          },
          "metadata": {},
          "execution_count": 36
        }
      ]
    },
    {
      "cell_type": "code",
      "metadata": {
        "colab": {
          "base_uri": "https://localhost:8080/",
          "height": 280
        },
        "id": "hk26TDLZxgg3",
        "outputId": "2de5d940-3944-44e4-ba4e-87a43e4a9ded"
      },
      "source": [
        "sns.boxplot(x = 'vendor_id',y=\"trip_duration\", hue=\"vendor_id\",data=df, palette=\"Set3\")\n",
        "plt.show()"
      ],
      "execution_count": null,
      "outputs": [
        {
          "output_type": "display_data",
          "data": {
            "image/png": "[encoded data removed]",
            "text/plain": [
              "<Figure size 432x288 with 1 Axes>"
            ]
          },
          "metadata": {
            "needs_background": "light"
          }
        }
      ]
    },
    {
      "cell_type": "code",
      "metadata": {
        "colab": {
          "base_uri": "https://localhost:8080/",
          "height": 280
        },
        "id": "KRIL0ePDxiwH",
        "outputId": "8a81b126-d3e6-4d67-bbd0-6888121aa9d0"
      },
      "source": [
        "sns.boxplot(x = 'vendor_id',y=\"trip_duration\", hue=\"vendor_id\",data=df, palette=\"Set3\",showfliers=False)\n",
        "plt.show()"
      ],
      "execution_count": null,
      "outputs": [
        {
          "output_type": "display_data",
          "data": {
            "image/png": "[encoded data removed]",
            "text/plain": [
              "<Figure size 432x288 with 1 Axes>"
            ]
          },
          "metadata": {
            "needs_background": "light"
          }
        }
      ]
    },
    {
      "cell_type": "code",
      "metadata": {
        "colab": {
          "base_uri": "https://localhost:8080/",
          "height": 280
        },
        "id": "tgQWfEMjxljm",
        "outputId": "5b1e8e6a-c53a-4e8d-febf-220cf4c8e73d"
      },
      "source": [
        "sns.kdeplot(data=df[df['vendor_id']==1], x=\"trip_duration\")\n",
        "plt.show()"
      ],
      "execution_count": null,
      "outputs": [
        {
          "output_type": "display_data",
          "data": {
            "image/png": "[encoded data removed]",
            "text/plain": [
              "<Figure size 432x288 with 1 Axes>"
            ]
          },
          "metadata": {
            "needs_background": "light"
          }
        }
      ]
    },
    {
      "cell_type": "code",
      "metadata": {
        "colab": {
          "base_uri": "https://localhost:8080/",
          "height": 280
        },
        "id": "37JuG7E2xnYw",
        "outputId": "a121aa9e-d837-472d-f2fe-49e14529561f"
      },
      "source": [
        "sns.kdeplot(data=df[df['vendor_id']==2], x=\"trip_duration\")\n",
        "plt.show()"
      ],
      "execution_count": null,
      "outputs": [
        {
          "output_type": "display_data",
          "data": {
            "image/png": "[encoded data removed]",
            "text/plain": [
              "<Figure size 432x288 with 1 Axes>"
            ]
          },
          "metadata": {
            "needs_background": "light"
          }
        }
      ]
    },
    {
      "cell_type": "code",
      "metadata": {
        "colab": {
          "base_uri": "https://localhost:8080/"
        },
        "id": "2mEeB4MUxpJW",
        "outputId": "629a684d-13eb-42bd-f7eb-4099831d0e12"
      },
      "source": [
        "df.passenger_count.value_counts()"
      ],
      "execution_count": null,
      "outputs": [
        {
          "output_type": "execute_result",
          "data": {
            "text/plain": [
              "1    977385\n",
              "2    200911\n",
              "5     74118\n",
              "3     57274\n",
              "6     45851\n",
              "4     27194\n",
              "0        12\n",
              "9         1\n",
              "Name: passenger_count, dtype: int64"
            ]
          },
          "metadata": {},
          "execution_count": 41
        }
      ]
    },
    {
      "cell_type": "code",
      "metadata": {
        "id": "VNbsQ1IExq1n"
      },
      "source": [
        "df = df[df['passenger_count']!=0]\n",
        "df = df[df['passenger_count']!=9]"
      ],
      "execution_count": null,
      "outputs": []
    },
    {
      "cell_type": "code",
      "metadata": {
        "colab": {
          "base_uri": "https://localhost:8080/",
          "height": 280
        },
        "id": "PgdyTJWzxtDh",
        "outputId": "cd7a3af1-b86f-4014-84ad-340a13ce7686"
      },
      "source": [
        "sns.boxplot(x = 'passenger_count',y=\"trip_duration\", hue=\"passenger_count\",data=df, palette=\"Set1\")\n",
        "plt.show()"
      ],
      "execution_count": null,
      "outputs": [
        {
          "output_type": "display_data",
          "data": {
            "image/png": "[encoded data removed]",
            "text/plain": [
              "<Figure size 432x288 with 1 Axes>"
            ]
          },
          "metadata": {
            "needs_background": "light"
          }
        }
      ]
    },
    {
      "cell_type": "code",
      "metadata": {
        "colab": {
          "base_uri": "https://localhost:8080/"
        },
        "id": "T3_vNdAJxuzH",
        "outputId": "44ea31c2-4008-42e6-d8e9-829d6033a421"
      },
      "source": [
        "locations = df[['pickup_longitude', 'pickup_latitude']]\n",
        "locationlist = locations.values.tolist()\n",
        "len(locationlist)\n",
        "locationlist[7]"
      ],
      "execution_count": null,
      "outputs": [
        {
          "output_type": "execute_result",
          "data": {
            "text/plain": [
              "[-73.96927642822266, 40.79777908325195]"
            ]
          },
          "metadata": {},
          "execution_count": 44
        }
      ]
    },
    {
      "cell_type": "code",
      "metadata": {
        "id": "Nb_EPp7BxxQm"
      },
      "source": [
        "df.reset_index(drop=True,inplace=True)"
      ],
      "execution_count": null,
      "outputs": []
    },
    {
      "cell_type": "code",
      "metadata": {
        "id": "YdDPfbQexzyY"
      },
      "source": [
        "from math import sin, cos, sqrt, atan2, radians\n",
        "def get_distance(lat1, lon1, lat2, lon2) :\n",
        "  # approximate radius of earth in km\n",
        "  R = 6373.0\n",
        "  \n",
        "  lat1 = radians(lat1)\n",
        "  lon1 = radians(lon1)\n",
        "  lat2 = radians(lat2)\n",
        "  lon2 = radians(lon2)\n",
        "\n",
        "  dlon = lon2 - lon1\n",
        "  dlat = lat2 - lat1\n",
        "\n",
        "  a = sin(dlat / 2)**2 + cos(lat1) * cos(lat2) * sin(dlon / 2)**2\n",
        "  c = 2 * atan2(sqrt(a), sqrt(1 - a))\n",
        "\n",
        "  distance = R*c\n",
        "\n",
        "  return distance"
      ],
      "execution_count": null,
      "outputs": []
    },
    {
      "cell_type": "code",
      "metadata": {
        "id": "BzfVqOsNx2hr"
      },
      "source": [
        "distance = []\n",
        "for i in range(len(df)):\n",
        "  dummy = df.loc[i]\n",
        "  dis = get_distance(dummy['pickup_latitude'],dummy['pickup_longitude'], dummy['dropoff_latitude'], dummy['dropoff_longitude'])\n",
        "\n",
        "  distance.append(dis)"
      ],
      "execution_count": null,
      "outputs": []
    },
    {
      "cell_type": "code",
      "metadata": {
        "colab": {
          "base_uri": "https://localhost:8080/",
          "height": 308
        },
        "id": "eOVnmR6fx4MJ",
        "outputId": "0b176c7c-a636-49ab-b562-7bf6ae2b58be"
      },
      "source": [
        "#Create a new feature called distance\n",
        "df['distance'] = distance\n",
        "df.head()"
      ],
      "execution_count": null,
      "outputs": [
        {
          "output_type": "execute_result",
          "data": {
            "text/html": [
              "<div>\n",
              "<style scoped>\n",
              "    .dataframe tbody tr th:only-of-type {\n",
              "        vertical-align: middle;\n",
              "    }\n",
              "\n",
              "    .dataframe tbody tr th {\n",
              "        vertical-align: top;\n",
              "    }\n",
              "\n",
              "    .dataframe thead th {\n",
              "        text-align: right;\n",
              "    }\n",
              "</style>\n",
              "<table border=\"1\" class=\"dataframe\">\n",
              "  <thead>\n",
              "    <tr style=\"text-align: right;\">\n",
              "      <th></th>\n",
              "      <th>vendor_id</th>\n",
              "      <th>pickup_datetime</th>\n",
              "      <th>dropoff_datetime</th>\n",
              "      <th>passenger_count</th>\n",
              "      <th>pickup_longitude</th>\n",
              "      <th>pickup_latitude</th>\n",
              "      <th>dropoff_longitude</th>\n",
              "      <th>dropoff_latitude</th>\n",
              "      <th>store_and_fwd_flag</th>\n",
              "      <th>trip_duration</th>\n",
              "      <th>distance</th>\n",
              "    </tr>\n",
              "  </thead>\n",
              "  <tbody>\n",
              "    <tr>\n",
              "      <th>0</th>\n",
              "      <td>2</td>\n",
              "      <td>2016-03-14 17:24:55</td>\n",
              "      <td>2016-03-14 17:32:30</td>\n",
              "      <td>1</td>\n",
              "      <td>-73.982155</td>\n",
              "      <td>40.767937</td>\n",
              "      <td>-73.964630</td>\n",
              "      <td>40.765602</td>\n",
              "      <td>N</td>\n",
              "      <td>455</td>\n",
              "      <td>1.498991</td>\n",
              "    </tr>\n",
              "    <tr>\n",
              "      <th>1</th>\n",
              "      <td>1</td>\n",
              "      <td>2016-06-12 00:43:35</td>\n",
              "      <td>2016-06-12 00:54:38</td>\n",
              "      <td>1</td>\n",
              "      <td>-73.980415</td>\n",
              "      <td>40.738564</td>\n",
              "      <td>-73.999481</td>\n",
              "      <td>40.731152</td>\n",
              "      <td>N</td>\n",
              "      <td>663</td>\n",
              "      <td>1.806074</td>\n",
              "    </tr>\n",
              "    <tr>\n",
              "      <th>2</th>\n",
              "      <td>2</td>\n",
              "      <td>2016-01-19 11:35:24</td>\n",
              "      <td>2016-01-19 12:10:48</td>\n",
              "      <td>1</td>\n",
              "      <td>-73.979027</td>\n",
              "      <td>40.763939</td>\n",
              "      <td>-74.005333</td>\n",
              "      <td>40.710087</td>\n",
              "      <td>N</td>\n",
              "      <td>2124</td>\n",
              "      <td>6.387103</td>\n",
              "    </tr>\n",
              "    <tr>\n",
              "      <th>3</th>\n",
              "      <td>2</td>\n",
              "      <td>2016-04-06 19:32:31</td>\n",
              "      <td>2016-04-06 19:39:40</td>\n",
              "      <td>1</td>\n",
              "      <td>-74.010040</td>\n",
              "      <td>40.719971</td>\n",
              "      <td>-74.012268</td>\n",
              "      <td>40.706718</td>\n",
              "      <td>N</td>\n",
              "      <td>429</td>\n",
              "      <td>1.485965</td>\n",
              "    </tr>\n",
              "    <tr>\n",
              "      <th>4</th>\n",
              "      <td>2</td>\n",
              "      <td>2016-03-26 13:30:55</td>\n",
              "      <td>2016-03-26 13:38:10</td>\n",
              "      <td>1</td>\n",
              "      <td>-73.973053</td>\n",
              "      <td>40.793209</td>\n",
              "      <td>-73.972923</td>\n",
              "      <td>40.782520</td>\n",
              "      <td>N</td>\n",
              "      <td>435</td>\n",
              "      <td>1.188962</td>\n",
              "    </tr>\n",
              "  </tbody>\n",
              "</table>\n",
              "</div>"
            ],
            "text/plain": [
              "   vendor_id      pickup_datetime  ... trip_duration  distance\n",
              "0          2  2016-03-14 17:24:55  ...           455  1.498991\n",
              "1          1  2016-06-12 00:43:35  ...           663  1.806074\n",
              "2          2  2016-01-19 11:35:24  ...          2124  6.387103\n",
              "3          2  2016-04-06 19:32:31  ...           429  1.485965\n",
              "4          2  2016-03-26 13:30:55  ...           435  1.188962\n",
              "\n",
              "[5 rows x 11 columns]"
            ]
          },
          "metadata": {},
          "execution_count": 49
        }
      ]
    },
    {
      "cell_type": "code",
      "metadata": {
        "colab": {
          "base_uri": "https://localhost:8080/"
        },
        "id": "SWkICXYnx5mG",
        "outputId": "5390711d-7a1d-4a93-a591-811fd12487eb"
      },
      "source": [
        "df['distance'].describe()"
      ],
      "execution_count": null,
      "outputs": [
        {
          "output_type": "execute_result",
          "data": {
            "text/plain": [
              "count    1.382733e+06\n",
              "mean     3.579359e+00\n",
              "std      4.330515e+00\n",
              "min      0.000000e+00\n",
              "25%      1.336478e+00\n",
              "50%      2.204411e+00\n",
              "75%      4.034852e+00\n",
              "max      1.241298e+03\n",
              "Name: distance, dtype: float64"
            ]
          },
          "metadata": {},
          "execution_count": 50
        }
      ]
    },
    {
      "cell_type": "code",
      "metadata": {
        "colab": {
          "base_uri": "https://localhost:8080/"
        },
        "id": "NSDxGfxLx65o",
        "outputId": "00b3d921-a2a2-4080-ae00-15316ce992ef"
      },
      "source": [
        "per = [0,10,20,30,40,50,60,70,80,90,100]\n",
        "for i in per:\n",
        "  print(i,\"th percentile value = \", np.percentile(df.distance, i))"
      ],
      "execution_count": null,
      "outputs": [
        {
          "output_type": "stream",
          "name": "stdout",
          "text": [
            "0 th percentile value =  0.0\n",
            "10 th percentile value =  0.8977949920748793\n",
            "20 th percentile value =  1.193118736890715\n",
            "30 th percentile value =  1.4847242468613069\n",
            "40 th percentile value =  1.8123427012106075\n",
            "50 th percentile value =  2.20441104010099\n",
            "60 th percentile value =  2.7186513647558903\n",
            "70 th percentile value =  3.480575103756334\n",
            "80 th percentile value =  4.79637805795684\n",
            "90 th percentile value =  7.905038233218251\n",
            "100 th percentile value =  1241.2982257566919\n"
          ]
        }
      ]
    },
    {
      "cell_type": "code",
      "metadata": {
        "colab": {
          "base_uri": "https://localhost:8080/"
        },
        "id": "K9GLujimx8E2",
        "outputId": "4c36a110-71da-49b6-d3d0-b12dcb468604"
      },
      "source": [
        "per = [0,1,2,3,4,5,6,7,8,9,10]\n",
        "for i in per:\n",
        "  print(i,\"th percentile value = \", np.percentile(df.distance, i))"
      ],
      "execution_count": null,
      "outputs": [
        {
          "output_type": "stream",
          "name": "stdout",
          "text": [
            "0 th percentile value =  0.0\n",
            "1 th percentile value =  0.384723292210271\n",
            "2 th percentile value =  0.5272759039929669\n",
            "3 th percentile value =  0.6055773121140444\n",
            "4 th percentile value =  0.6642840592011339\n",
            "5 th percentile value =  0.7136268702487112\n",
            "6 th percentile value =  0.75656181593394\n",
            "7 th percentile value =  0.7957765403563013\n",
            "8 th percentile value =  0.8318816376936742\n",
            "9 th percentile value =  0.8656255472003116\n",
            "10 th percentile value =  0.8977949920748793\n"
          ]
        }
      ]
    },
    {
      "cell_type": "code",
      "metadata": {
        "colab": {
          "base_uri": "https://localhost:8080/"
        },
        "id": "nn4CVAkCx9VO",
        "outputId": "b75179f5-1c44-4e22-9445-0c9c8fd85168"
      },
      "source": [
        "print(\"Rows with distance = 0 \", df[df['distance']==0].shape[0])"
      ],
      "execution_count": null,
      "outputs": [
        {
          "output_type": "stream",
          "name": "stdout",
          "text": [
            "Rows with distance = 0  3748\n"
          ]
        }
      ]
    },
    {
      "cell_type": "code",
      "metadata": {
        "colab": {
          "base_uri": "https://localhost:8080/"
        },
        "id": "Fq9igyXpx-fp",
        "outputId": "52c1472c-ca25-428a-a833-4a5aabe1f325"
      },
      "source": [
        "per = [90,91,92,93,94,95,96,97,98,99,100]\n",
        "for i in per:\n",
        "  print(i,\"th percentile value = \", np.percentile(df.distance, i))"
      ],
      "execution_count": null,
      "outputs": [
        {
          "output_type": "stream",
          "name": "stdout",
          "text": [
            "90 th percentile value =  7.905038233218251\n",
            "91 th percentile value =  8.529506379694038\n",
            "92 th percentile value =  9.09860730441969\n",
            "93 th percentile value =  9.639185697300679\n",
            "94 th percentile value =  10.279768604986554\n",
            "95 th percentile value =  11.29555821569695\n",
            "96 th percentile value =  13.17794551007139\n",
            "97 th percentile value =  15.812492140851411\n",
            "98 th percentile value =  19.52199877709122\n",
            "99 th percentile value =  20.834689979546543\n",
            "100 th percentile value =  1241.2982257566919\n"
          ]
        }
      ]
    },
    {
      "cell_type": "code",
      "metadata": {
        "colab": {
          "base_uri": "https://localhost:8080/"
        },
        "id": "QAR5gxHcx_8g",
        "outputId": "a7872fef-9dda-4e5e-dfea-5d32b38381c0"
      },
      "source": [
        "per = [99.1,99.2,99.3,99.4,99.5,99.6,99.7,99.8,99.9,100]\n",
        "for i in per:\n",
        "  print(i,\"th percentile value = \", np.percentile(df.distance, i))"
      ],
      "execution_count": null,
      "outputs": [
        {
          "output_type": "stream",
          "name": "stdout",
          "text": [
            "99.1 th percentile value =  20.961022056536656\n",
            "99.2 th percentile value =  21.088580932692842\n",
            "99.3 th percentile value =  21.22600467617604\n",
            "99.4 th percentile value =  21.399449703234133\n",
            "99.5 th percentile value =  21.596523304413346\n",
            "99.6 th percentile value =  21.881677874003778\n",
            "99.7 th percentile value =  22.316500083781175\n",
            "99.8 th percentile value =  22.93759699340491\n",
            "99.9 th percentile value =  24.877227956030197\n",
            "100 th percentile value =  1241.2982257566919\n"
          ]
        }
      ]
    },
    {
      "cell_type": "code",
      "metadata": {
        "colab": {
          "base_uri": "https://localhost:8080/"
        },
        "id": "qYC3lGrJyBLD",
        "outputId": "fb65ca59-2fcd-48e3-e0ba-719645de6cde"
      },
      "source": [
        "per = [99.91,99.92,99.93,99.94,99.95,99.96,99.97,99.98,99.99,100]\n",
        "for i in per:\n",
        "  print(i,\"th percentile value = \", np.percentile(df.distance, i))"
      ],
      "execution_count": null,
      "outputs": [
        {
          "output_type": "stream",
          "name": "stdout",
          "text": [
            "99.91 th percentile value =  25.378371288988248\n",
            "99.92 th percentile value =  25.957905024032726\n",
            "99.93 th percentile value =  26.515328131931774\n",
            "99.94 th percentile value =  27.24271752569762\n",
            "99.95 th percentile value =  28.201407309960025\n",
            "99.96 th percentile value =  29.771090343995528\n",
            "99.97 th percentile value =  32.11619726237926\n",
            "99.98 th percentile value =  34.88235104087297\n",
            "99.99 th percentile value =  42.004225920998906\n",
            "100 th percentile value =  1241.2982257566919\n"
          ]
        }
      ]
    },
    {
      "cell_type": "code",
      "metadata": {
        "colab": {
          "base_uri": "https://localhost:8080/"
        },
        "id": "KlI0jrFfyCdf",
        "outputId": "72c3065b-57f2-4035-e5bc-3bcc7b8be931"
      },
      "source": [
        "per = [99.991,99.992,99.993,99.994,99.995,99.996,99.997,99.998,99.999,100]\n",
        "for i in per:\n",
        "  print(i,\"th percentile value = \", np.percentile(df.distance, i))"
      ],
      "execution_count": null,
      "outputs": [
        {
          "output_type": "stream",
          "name": "stdout",
          "text": [
            "99.991 th percentile value =  42.861253509761255\n",
            "99.992 th percentile value =  44.081257039080114\n",
            "99.993 th percentile value =  45.582190676415074\n",
            "99.994 th percentile value =  47.60279976784046\n",
            "99.995 th percentile value =  50.200933764147806\n",
            "99.996 th percentile value =  53.74777400220483\n",
            "99.997 th percentile value =  62.044721871948916\n",
            "99.998 th percentile value =  68.18674767065446\n",
            "99.999 th percentile value =  98.33370755002265\n",
            "100 th percentile value =  1241.2982257566919\n"
          ]
        }
      ]
    },
    {
      "cell_type": "code",
      "metadata": {
        "id": "s76-Fj6myDsu"
      },
      "source": [
        "#Distance>100km and distance !=100 we will remove\n",
        "df = df[df['distance']<100]\n",
        "df = df[df['distance']>0] "
      ],
      "execution_count": null,
      "outputs": []
    },
    {
      "cell_type": "code",
      "metadata": {
        "id": "HZmPpJq2yEsr"
      },
      "source": [
        "df.reset_index(drop=True,inplace=True)"
      ],
      "execution_count": null,
      "outputs": []
    },
    {
      "cell_type": "code",
      "metadata": {
        "colab": {
          "base_uri": "https://localhost:8080/",
          "height": 204
        },
        "id": "ixKhs5lNyGuW",
        "outputId": "89764eb9-54e4-4def-c770-e514f368421d"
      },
      "source": [
        "#removing lattitude and longitude\n",
        "df.drop([\"pickup_longitude\",\"pickup_latitude\",\"dropoff_longitude\",\"dropoff_latitude\"],axis=1,inplace=True)\n",
        "df.head()"
      ],
      "execution_count": null,
      "outputs": [
        {
          "output_type": "execute_result",
          "data": {
            "text/html": [
              "<div>\n",
              "<style scoped>\n",
              "    .dataframe tbody tr th:only-of-type {\n",
              "        vertical-align: middle;\n",
              "    }\n",
              "\n",
              "    .dataframe tbody tr th {\n",
              "        vertical-align: top;\n",
              "    }\n",
              "\n",
              "    .dataframe thead th {\n",
              "        text-align: right;\n",
              "    }\n",
              "</style>\n",
              "<table border=\"1\" class=\"dataframe\">\n",
              "  <thead>\n",
              "    <tr style=\"text-align: right;\">\n",
              "      <th></th>\n",
              "      <th>vendor_id</th>\n",
              "      <th>pickup_datetime</th>\n",
              "      <th>dropoff_datetime</th>\n",
              "      <th>passenger_count</th>\n",
              "      <th>store_and_fwd_flag</th>\n",
              "      <th>trip_duration</th>\n",
              "      <th>distance</th>\n",
              "    </tr>\n",
              "  </thead>\n",
              "  <tbody>\n",
              "    <tr>\n",
              "      <th>0</th>\n",
              "      <td>2</td>\n",
              "      <td>2016-03-14 17:24:55</td>\n",
              "      <td>2016-03-14 17:32:30</td>\n",
              "      <td>1</td>\n",
              "      <td>N</td>\n",
              "      <td>455</td>\n",
              "      <td>1.498991</td>\n",
              "    </tr>\n",
              "    <tr>\n",
              "      <th>1</th>\n",
              "      <td>1</td>\n",
              "      <td>2016-06-12 00:43:35</td>\n",
              "      <td>2016-06-12 00:54:38</td>\n",
              "      <td>1</td>\n",
              "      <td>N</td>\n",
              "      <td>663</td>\n",
              "      <td>1.806074</td>\n",
              "    </tr>\n",
              "    <tr>\n",
              "      <th>2</th>\n",
              "      <td>2</td>\n",
              "      <td>2016-01-19 11:35:24</td>\n",
              "      <td>2016-01-19 12:10:48</td>\n",
              "      <td>1</td>\n",
              "      <td>N</td>\n",
              "      <td>2124</td>\n",
              "      <td>6.387103</td>\n",
              "    </tr>\n",
              "    <tr>\n",
              "      <th>3</th>\n",
              "      <td>2</td>\n",
              "      <td>2016-04-06 19:32:31</td>\n",
              "      <td>2016-04-06 19:39:40</td>\n",
              "      <td>1</td>\n",
              "      <td>N</td>\n",
              "      <td>429</td>\n",
              "      <td>1.485965</td>\n",
              "    </tr>\n",
              "    <tr>\n",
              "      <th>4</th>\n",
              "      <td>2</td>\n",
              "      <td>2016-03-26 13:30:55</td>\n",
              "      <td>2016-03-26 13:38:10</td>\n",
              "      <td>1</td>\n",
              "      <td>N</td>\n",
              "      <td>435</td>\n",
              "      <td>1.188962</td>\n",
              "    </tr>\n",
              "  </tbody>\n",
              "</table>\n",
              "</div>"
            ],
            "text/plain": [
              "   vendor_id      pickup_datetime  ... trip_duration  distance\n",
              "0          2  2016-03-14 17:24:55  ...           455  1.498991\n",
              "1          1  2016-06-12 00:43:35  ...           663  1.806074\n",
              "2          2  2016-01-19 11:35:24  ...          2124  6.387103\n",
              "3          2  2016-04-06 19:32:31  ...           429  1.485965\n",
              "4          2  2016-03-26 13:30:55  ...           435  1.188962\n",
              "\n",
              "[5 rows x 7 columns]"
            ]
          },
          "metadata": {},
          "execution_count": 60
        }
      ]
    },
    {
      "cell_type": "code",
      "metadata": {
        "id": "hrdluQtcyHwn"
      },
      "source": [
        "#Creating pickup features from date\n",
        "df['pickup_month'] = df['pickup_datetime'].apply(lambda x : x.split()[0].split()[0].split('-')[1])\n",
        "df['pickup_day'] = df['pickup_datetime'].apply(lambda x : x.split()[0].split()[0].split('-')[2])"
      ],
      "execution_count": null,
      "outputs": []
    },
    {
      "cell_type": "code",
      "metadata": {
        "id": "xvIWaixnyJGK"
      },
      "source": [
        "#Creating pickup features from time\n",
        "df['pickup_hour'] = df['pickup_datetime'].apply(lambda x : x.split()[1].split(':')[0])\n",
        "df['pickup_minute'] = df['pickup_datetime'].apply(lambda x : x.split()[1].split(':')[1])\n",
        "df['pickup_second'] = df['pickup_datetime'].apply(lambda x : x.split()[1].split(':')[2])"
      ],
      "execution_count": null,
      "outputs": []
    },
    {
      "cell_type": "code",
      "metadata": {
        "id": "3oKTAaadyKMo"
      },
      "source": [
        "#Creating dropoff features from date\n",
        "df['dropoff_month'] = df['dropoff_datetime'].apply(lambda x : x.split()[0].split()[0].split('-')[1])\n",
        "df['dropoff_day'] = df['dropoff_datetime'].apply(lambda x : x.split()[0].split()[0].split('-')[2])"
      ],
      "execution_count": null,
      "outputs": []
    },
    {
      "cell_type": "code",
      "metadata": {
        "id": "feCzXIgYyMPh"
      },
      "source": [
        "#Creating dropoff features from time\n",
        "df['dropoff_hour'] = df['dropoff_datetime'].apply(lambda x : x.split()[1].split(':')[0])\n",
        "df['dropoff_minute'] = df['dropoff_datetime'].apply(lambda x : x.split()[1].split(':')[1])\n",
        "df['dropoff_second'] = df['dropoff_datetime'].apply(lambda x : x.split()[1].split(':')[2])"
      ],
      "execution_count": null,
      "outputs": []
    },
    {
      "cell_type": "code",
      "metadata": {
        "id": "W3YDnJhmyNWe"
      },
      "source": [
        "df.drop(['pickup_datetime','dropoff_datetime'],axis=1,inplace = True)"
      ],
      "execution_count": null,
      "outputs": []
    },
    {
      "cell_type": "code",
      "metadata": {
        "colab": {
          "base_uri": "https://localhost:8080/",
          "height": 224
        },
        "id": "CLNZDXBJyOYW",
        "outputId": "96861675-74df-4b14-8b45-eede920f5f00"
      },
      "source": [
        "df.head()"
      ],
      "execution_count": null,
      "outputs": [
        {
          "output_type": "execute_result",
          "data": {
            "text/html": [
              "<div>\n",
              "<style scoped>\n",
              "    .dataframe tbody tr th:only-of-type {\n",
              "        vertical-align: middle;\n",
              "    }\n",
              "\n",
              "    .dataframe tbody tr th {\n",
              "        vertical-align: top;\n",
              "    }\n",
              "\n",
              "    .dataframe thead th {\n",
              "        text-align: right;\n",
              "    }\n",
              "</style>\n",
              "<table border=\"1\" class=\"dataframe\">\n",
              "  <thead>\n",
              "    <tr style=\"text-align: right;\">\n",
              "      <th></th>\n",
              "      <th>vendor_id</th>\n",
              "      <th>passenger_count</th>\n",
              "      <th>store_and_fwd_flag</th>\n",
              "      <th>trip_duration</th>\n",
              "      <th>distance</th>\n",
              "      <th>pickup_month</th>\n",
              "      <th>pickup_day</th>\n",
              "      <th>pickup_hour</th>\n",
              "      <th>pickup_minute</th>\n",
              "      <th>pickup_second</th>\n",
              "      <th>dropoff_month</th>\n",
              "      <th>dropoff_day</th>\n",
              "      <th>dropoff_hour</th>\n",
              "      <th>dropoff_minute</th>\n",
              "      <th>dropoff_second</th>\n",
              "    </tr>\n",
              "  </thead>\n",
              "  <tbody>\n",
              "    <tr>\n",
              "      <th>0</th>\n",
              "      <td>2</td>\n",
              "      <td>1</td>\n",
              "      <td>N</td>\n",
              "      <td>455</td>\n",
              "      <td>1.498991</td>\n",
              "      <td>03</td>\n",
              "      <td>14</td>\n",
              "      <td>17</td>\n",
              "      <td>24</td>\n",
              "      <td>55</td>\n",
              "      <td>03</td>\n",
              "      <td>14</td>\n",
              "      <td>17</td>\n",
              "      <td>32</td>\n",
              "      <td>30</td>\n",
              "    </tr>\n",
              "    <tr>\n",
              "      <th>1</th>\n",
              "      <td>1</td>\n",
              "      <td>1</td>\n",
              "      <td>N</td>\n",
              "      <td>663</td>\n",
              "      <td>1.806074</td>\n",
              "      <td>06</td>\n",
              "      <td>12</td>\n",
              "      <td>00</td>\n",
              "      <td>43</td>\n",
              "      <td>35</td>\n",
              "      <td>06</td>\n",
              "      <td>12</td>\n",
              "      <td>00</td>\n",
              "      <td>54</td>\n",
              "      <td>38</td>\n",
              "    </tr>\n",
              "    <tr>\n",
              "      <th>2</th>\n",
              "      <td>2</td>\n",
              "      <td>1</td>\n",
              "      <td>N</td>\n",
              "      <td>2124</td>\n",
              "      <td>6.387103</td>\n",
              "      <td>01</td>\n",
              "      <td>19</td>\n",
              "      <td>11</td>\n",
              "      <td>35</td>\n",
              "      <td>24</td>\n",
              "      <td>01</td>\n",
              "      <td>19</td>\n",
              "      <td>12</td>\n",
              "      <td>10</td>\n",
              "      <td>48</td>\n",
              "    </tr>\n",
              "    <tr>\n",
              "      <th>3</th>\n",
              "      <td>2</td>\n",
              "      <td>1</td>\n",
              "      <td>N</td>\n",
              "      <td>429</td>\n",
              "      <td>1.485965</td>\n",
              "      <td>04</td>\n",
              "      <td>06</td>\n",
              "      <td>19</td>\n",
              "      <td>32</td>\n",
              "      <td>31</td>\n",
              "      <td>04</td>\n",
              "      <td>06</td>\n",
              "      <td>19</td>\n",
              "      <td>39</td>\n",
              "      <td>40</td>\n",
              "    </tr>\n",
              "    <tr>\n",
              "      <th>4</th>\n",
              "      <td>2</td>\n",
              "      <td>1</td>\n",
              "      <td>N</td>\n",
              "      <td>435</td>\n",
              "      <td>1.188962</td>\n",
              "      <td>03</td>\n",
              "      <td>26</td>\n",
              "      <td>13</td>\n",
              "      <td>30</td>\n",
              "      <td>55</td>\n",
              "      <td>03</td>\n",
              "      <td>26</td>\n",
              "      <td>13</td>\n",
              "      <td>38</td>\n",
              "      <td>10</td>\n",
              "    </tr>\n",
              "  </tbody>\n",
              "</table>\n",
              "</div>"
            ],
            "text/plain": [
              "   vendor_id  passenger_count  ... dropoff_minute  dropoff_second\n",
              "0          2                1  ...             32              30\n",
              "1          1                1  ...             54              38\n",
              "2          2                1  ...             10              48\n",
              "3          2                1  ...             39              40\n",
              "4          2                1  ...             38              10\n",
              "\n",
              "[5 rows x 15 columns]"
            ]
          },
          "metadata": {},
          "execution_count": 66
        }
      ]
    },
    {
      "cell_type": "code",
      "metadata": {
        "colab": {
          "base_uri": "https://localhost:8080/"
        },
        "id": "dUl5GnFxyPc3",
        "outputId": "bb4ddfba-5f4d-45d6-87bb-7e8a7358182e"
      },
      "source": [
        "df['store_and_fwd_flag'].value_counts()"
      ],
      "execution_count": null,
      "outputs": [
        {
          "output_type": "execute_result",
          "data": {
            "text/plain": [
              "N    1371381\n",
              "Y       7590\n",
              "Name: store_and_fwd_flag, dtype: int64"
            ]
          },
          "metadata": {},
          "execution_count": 67
        }
      ]
    },
    {
      "cell_type": "code",
      "metadata": {
        "id": "XDTTsKIwyQo3"
      },
      "source": [
        "def encode_sa_flag(x):\n",
        "  if(x == 'N'):\n",
        "    return 0\n",
        "  else:\n",
        "    return 1\n",
        "\n",
        "df['store_and_fwd_flag'] = df['store_and_fwd_flag'].apply(lambda x: encode_sa_flag(x))"
      ],
      "execution_count": null,
      "outputs": []
    },
    {
      "cell_type": "code",
      "metadata": {
        "colab": {
          "base_uri": "https://localhost:8080/"
        },
        "id": "gpa19CkxyR8p",
        "outputId": "c27eb34d-5f0b-4b79-d3f3-4bf2883fa651"
      },
      "source": [
        "#Checking for any null values\n",
        "df.isnull().values.any()"
      ],
      "execution_count": null,
      "outputs": [
        {
          "output_type": "execute_result",
          "data": {
            "text/plain": [
              "False"
            ]
          },
          "metadata": {},
          "execution_count": 69
        }
      ]
    },
    {
      "cell_type": "code",
      "metadata": {
        "colab": {
          "base_uri": "https://localhost:8080/",
          "height": 224
        },
        "id": "KpWG6FYFyTbA",
        "outputId": "9c04cc9e-b9ef-4460-8032-36553622b4c2"
      },
      "source": [
        "df.head()"
      ],
      "execution_count": null,
      "outputs": [
        {
          "output_type": "execute_result",
          "data": {
            "text/html": [
              "<div>\n",
              "<style scoped>\n",
              "    .dataframe tbody tr th:only-of-type {\n",
              "        vertical-align: middle;\n",
              "    }\n",
              "\n",
              "    .dataframe tbody tr th {\n",
              "        vertical-align: top;\n",
              "    }\n",
              "\n",
              "    .dataframe thead th {\n",
              "        text-align: right;\n",
              "    }\n",
              "</style>\n",
              "<table border=\"1\" class=\"dataframe\">\n",
              "  <thead>\n",
              "    <tr style=\"text-align: right;\">\n",
              "      <th></th>\n",
              "      <th>vendor_id</th>\n",
              "      <th>passenger_count</th>\n",
              "      <th>store_and_fwd_flag</th>\n",
              "      <th>trip_duration</th>\n",
              "      <th>distance</th>\n",
              "      <th>pickup_month</th>\n",
              "      <th>pickup_day</th>\n",
              "      <th>pickup_hour</th>\n",
              "      <th>pickup_minute</th>\n",
              "      <th>pickup_second</th>\n",
              "      <th>dropoff_month</th>\n",
              "      <th>dropoff_day</th>\n",
              "      <th>dropoff_hour</th>\n",
              "      <th>dropoff_minute</th>\n",
              "      <th>dropoff_second</th>\n",
              "    </tr>\n",
              "  </thead>\n",
              "  <tbody>\n",
              "    <tr>\n",
              "      <th>0</th>\n",
              "      <td>2</td>\n",
              "      <td>1</td>\n",
              "      <td>0</td>\n",
              "      <td>455</td>\n",
              "      <td>1.498991</td>\n",
              "      <td>03</td>\n",
              "      <td>14</td>\n",
              "      <td>17</td>\n",
              "      <td>24</td>\n",
              "      <td>55</td>\n",
              "      <td>03</td>\n",
              "      <td>14</td>\n",
              "      <td>17</td>\n",
              "      <td>32</td>\n",
              "      <td>30</td>\n",
              "    </tr>\n",
              "    <tr>\n",
              "      <th>1</th>\n",
              "      <td>1</td>\n",
              "      <td>1</td>\n",
              "      <td>0</td>\n",
              "      <td>663</td>\n",
              "      <td>1.806074</td>\n",
              "      <td>06</td>\n",
              "      <td>12</td>\n",
              "      <td>00</td>\n",
              "      <td>43</td>\n",
              "      <td>35</td>\n",
              "      <td>06</td>\n",
              "      <td>12</td>\n",
              "      <td>00</td>\n",
              "      <td>54</td>\n",
              "      <td>38</td>\n",
              "    </tr>\n",
              "    <tr>\n",
              "      <th>2</th>\n",
              "      <td>2</td>\n",
              "      <td>1</td>\n",
              "      <td>0</td>\n",
              "      <td>2124</td>\n",
              "      <td>6.387103</td>\n",
              "      <td>01</td>\n",
              "      <td>19</td>\n",
              "      <td>11</td>\n",
              "      <td>35</td>\n",
              "      <td>24</td>\n",
              "      <td>01</td>\n",
              "      <td>19</td>\n",
              "      <td>12</td>\n",
              "      <td>10</td>\n",
              "      <td>48</td>\n",
              "    </tr>\n",
              "    <tr>\n",
              "      <th>3</th>\n",
              "      <td>2</td>\n",
              "      <td>1</td>\n",
              "      <td>0</td>\n",
              "      <td>429</td>\n",
              "      <td>1.485965</td>\n",
              "      <td>04</td>\n",
              "      <td>06</td>\n",
              "      <td>19</td>\n",
              "      <td>32</td>\n",
              "      <td>31</td>\n",
              "      <td>04</td>\n",
              "      <td>06</td>\n",
              "      <td>19</td>\n",
              "      <td>39</td>\n",
              "      <td>40</td>\n",
              "    </tr>\n",
              "    <tr>\n",
              "      <th>4</th>\n",
              "      <td>2</td>\n",
              "      <td>1</td>\n",
              "      <td>0</td>\n",
              "      <td>435</td>\n",
              "      <td>1.188962</td>\n",
              "      <td>03</td>\n",
              "      <td>26</td>\n",
              "      <td>13</td>\n",
              "      <td>30</td>\n",
              "      <td>55</td>\n",
              "      <td>03</td>\n",
              "      <td>26</td>\n",
              "      <td>13</td>\n",
              "      <td>38</td>\n",
              "      <td>10</td>\n",
              "    </tr>\n",
              "  </tbody>\n",
              "</table>\n",
              "</div>"
            ],
            "text/plain": [
              "   vendor_id  passenger_count  ...  dropoff_minute  dropoff_second\n",
              "0          2                1  ...              32              30\n",
              "1          1                1  ...              54              38\n",
              "2          2                1  ...              10              48\n",
              "3          2                1  ...              39              40\n",
              "4          2                1  ...              38              10\n",
              "\n",
              "[5 rows x 15 columns]"
            ]
          },
          "metadata": {},
          "execution_count": 70
        }
      ]
    },
    {
      "cell_type": "code",
      "metadata": {
        "id": "BwY1p-QqyZms"
      },
      "source": [
        "y = df['trip_duration']\n",
        "df.drop(['trip_duration'],axis=1,inplace=True)"
      ],
      "execution_count": null,
      "outputs": []
    },
    {
      "cell_type": "code",
      "metadata": {
        "id": "YQR734gRyfEH"
      },
      "source": [
        "from sklearn.model_selection import train_test_split\n",
        "\n",
        "X_train, X_test, y_train, y_test = train_test_split(df, y, test_size=0.30, random_state=42)"
      ],
      "execution_count": null,
      "outputs": []
    },
    {
      "cell_type": "code",
      "metadata": {
        "colab": {
          "base_uri": "https://localhost:8080/"
        },
        "id": "SG3R3CJQyjOo",
        "outputId": "f47aecc3-74ff-411a-9724-051b8274963d"
      },
      "source": [
        "print('Size of Train data = ',X_train.shape[0])\n",
        "print('Size of Test data = ',X_test.shape[0])"
      ],
      "execution_count": null,
      "outputs": [
        {
          "output_type": "stream",
          "name": "stdout",
          "text": [
            "Size of Train data =  965279\n",
            "Size of Test data =  413692\n"
          ]
        }
      ]
    },
    {
      "cell_type": "code",
      "metadata": {
        "id": "JcTx-yTIyjuf"
      },
      "source": [
        "  #Ref : https://www.kaggle.com/carlolepelaars/understanding-the-metric-rmsle\n",
        "\n",
        "  from sklearn.metrics import mean_squared_log_error\n",
        "\n",
        "  def RMSLE(y_true:np.ndarray, y_pred:np.ndarray) -> np.float64:\n",
        "      \"\"\"\n",
        "          The Root Mean Squared Log Error (RMSLE) metric \n",
        "          \n",
        "          :param y_true: The ground truth labels given in the dataset\n",
        "          :param y_pred: Our predictions\n",
        "          :return: The RMSLE score\n",
        "      \"\"\"\n",
        "      return np.sqrt(mean_squared_log_error(y_true, y_pred))"
      ],
      "execution_count": null,
      "outputs": []
    },
    {
      "cell_type": "code",
      "metadata": {
        "id": "zhaJqEc_ymAH"
      },
      "source": [
        "from sklearn.preprocessing import MinMaxScaler\n",
        "scaler = MinMaxScaler()\n",
        "X_train = scaler.fit_transform(X_train)\n",
        "X_test = scaler.transform(X_test)"
      ],
      "execution_count": null,
      "outputs": []
    },
    {
      "cell_type": "code",
      "metadata": {
        "colab": {
          "base_uri": "https://localhost:8080/"
        },
        "id": "PlXEakF5ynO4",
        "outputId": "371632fa-8a8f-40bd-8ab1-5bad2c760584"
      },
      "source": [
        "from sklearn.linear_model import SGDRegressor\n",
        "from sklearn.model_selection import GridSearchCV\n",
        "\n",
        "params = {'penalty':('l1', 'l2'), 'alpha':[0.00001, 0.0001, 0.001, 0.0000001, 0.01, 0.1, 1],\n",
        "          'max_iter':[1000,2000,3000,1500,500,100]}\n",
        "\n",
        "sgd_linear = SGDRegressor(loss='squared_loss') #ordinary least squares fit\n",
        "\n",
        "clf = GridSearchCV(sgd_linear, param_grid=params,verbose=10,n_jobs=-1)\n",
        "\n",
        "clf.fit(X_train, y_train)"
      ],
      "execution_count": null,
      "outputs": [
        {
          "output_type": "stream",
          "name": "stdout",
          "text": [
            "Fitting 5 folds for each of 84 candidates, totalling 420 fits\n"
          ]
        },
        {
          "output_type": "stream",
          "name": "stderr",
          "text": [
            "[Parallel(n_jobs=-1)]: Using backend LokyBackend with 2 concurrent workers.\n",
            "[Parallel(n_jobs=-1)]: Done   1 tasks      | elapsed:    9.0s\n",
            "[Parallel(n_jobs=-1)]: Done   4 tasks      | elapsed:   23.9s\n",
            "[Parallel(n_jobs=-1)]: Done   9 tasks      | elapsed:   48.4s\n",
            "[Parallel(n_jobs=-1)]: Done  14 tasks      | elapsed:  1.2min\n",
            "[Parallel(n_jobs=-1)]: Done  21 tasks      | elapsed:  1.8min\n",
            "[Parallel(n_jobs=-1)]: Done  28 tasks      | elapsed:  2.4min\n",
            "[Parallel(n_jobs=-1)]: Done  37 tasks      | elapsed:  3.3min\n",
            "[Parallel(n_jobs=-1)]: Done  46 tasks      | elapsed:  4.1min\n",
            "[Parallel(n_jobs=-1)]: Done  57 tasks      | elapsed:  5.1min\n",
            "[Parallel(n_jobs=-1)]: Done  68 tasks      | elapsed:  6.1min\n",
            "[Parallel(n_jobs=-1)]: Done  81 tasks      | elapsed:  7.4min\n",
            "[Parallel(n_jobs=-1)]: Done  94 tasks      | elapsed:  8.7min\n",
            "[Parallel(n_jobs=-1)]: Done 109 tasks      | elapsed: 10.0min\n",
            "[Parallel(n_jobs=-1)]: Done 124 tasks      | elapsed: 11.4min\n",
            "[Parallel(n_jobs=-1)]: Done 141 tasks      | elapsed: 12.7min\n",
            "[Parallel(n_jobs=-1)]: Done 158 tasks      | elapsed: 14.1min\n",
            "[Parallel(n_jobs=-1)]: Done 177 tasks      | elapsed: 15.7min\n",
            "[Parallel(n_jobs=-1)]: Done 196 tasks      | elapsed: 17.1min\n",
            "[Parallel(n_jobs=-1)]: Done 217 tasks      | elapsed: 18.8min\n",
            "[Parallel(n_jobs=-1)]: Done 238 tasks      | elapsed: 20.6min\n",
            "[Parallel(n_jobs=-1)]: Done 261 tasks      | elapsed: 22.0min\n",
            "[Parallel(n_jobs=-1)]: Done 284 tasks      | elapsed: 23.5min\n",
            "[Parallel(n_jobs=-1)]: Done 309 tasks      | elapsed: 24.9min\n",
            "[Parallel(n_jobs=-1)]: Done 334 tasks      | elapsed: 26.8min\n",
            "[Parallel(n_jobs=-1)]: Done 361 tasks      | elapsed: 28.7min\n",
            "[Parallel(n_jobs=-1)]: Done 388 tasks      | elapsed: 31.0min\n",
            "[Parallel(n_jobs=-1)]: Done 417 tasks      | elapsed: 33.4min\n",
            "[Parallel(n_jobs=-1)]: Done 420 out of 420 | elapsed: 33.5min finished\n"
          ]
        },
        {
          "output_type": "execute_result",
          "data": {
            "text/plain": [
              "GridSearchCV(cv=None, error_score=nan,\n",
              "             estimator=SGDRegressor(alpha=0.0001, average=False,\n",
              "                                    early_stopping=False, epsilon=0.1,\n",
              "                                    eta0=0.01, fit_intercept=True,\n",
              "                                    l1_ratio=0.15, learning_rate='invscaling',\n",
              "                                    loss='squared_loss', max_iter=1000,\n",
              "                                    n_iter_no_change=5, penalty='l2',\n",
              "                                    power_t=0.25, random_state=None,\n",
              "                                    shuffle=True, tol=0.001,\n",
              "                                    validation_fraction=0.1, verbose=0,\n",
              "                                    warm_start=False),\n",
              "             iid='deprecated', n_jobs=-1,\n",
              "             param_grid={'alpha': [1e-05, 0.0001, 0.001, 1e-07, 0.01, 0.1, 1],\n",
              "                         'max_iter': [1000, 2000, 3000, 1500, 500, 100],\n",
              "                         'penalty': ('l1', 'l2')},\n",
              "             pre_dispatch='2*n_jobs', refit=True, return_train_score=False,\n",
              "             scoring=None, verbose=10)"
            ]
          },
          "metadata": {},
          "execution_count": 76
        }
      ]
    },
    {
      "cell_type": "code",
      "metadata": {
        "colab": {
          "base_uri": "https://localhost:8080/"
        },
        "id": "hIhXVOJwyofP",
        "outputId": "05941700-53d4-4a1e-9568-4d8e5b9bb168"
      },
      "source": [
        "clf.best_params_"
      ],
      "execution_count": null,
      "outputs": [
        {
          "output_type": "execute_result",
          "data": {
            "text/plain": [
              "{'alpha': 0.0001, 'max_iter': 100, 'penalty': 'l1'}"
            ]
          },
          "metadata": {},
          "execution_count": 77
        }
      ]
    },
    {
      "cell_type": "code",
      "metadata": {
        "colab": {
          "base_uri": "https://localhost:8080/"
        },
        "id": "VXgCcYIjyrJQ",
        "outputId": "7cf2e6ef-426e-42af-9e41-ae233f6f1978"
      },
      "source": [
        "penalty = 'l1' #standard regularizer for linear models. \n",
        "alpha = 0.0001 \n",
        "#constant that multiplies the regularization team\n",
        "max_iter = 100\n",
        "#max number of passes over the training data \n",
        "\n",
        "sgd_linear = SGDRegressor(penalty = 'l1', alpha = 0.0001, max_iter = 100, loss='squared_loss')\n",
        "sgd_linear.fit(X_train,y_train)"
      ],
      "execution_count": null,
      "outputs": [
        {
          "output_type": "execute_result",
          "data": {
            "text/plain": [
              "SGDRegressor(alpha=0.0001, average=False, early_stopping=False, epsilon=0.1,\n",
              "             eta0=0.01, fit_intercept=True, l1_ratio=0.15,\n",
              "             learning_rate='invscaling', loss='squared_loss', max_iter=100,\n",
              "             n_iter_no_change=5, penalty='l1', power_t=0.25, random_state=None,\n",
              "             shuffle=True, tol=0.001, validation_fraction=0.1, verbose=0,\n",
              "             warm_start=False)"
            ]
          },
          "metadata": {},
          "execution_count": 78
        }
      ]
    },
    {
      "cell_type": "code",
      "metadata": {
        "id": "96KTT3dMyxgg"
      },
      "source": [
        "predictions = sgd_linear.predict(X_test)"
      ],
      "execution_count": null,
      "outputs": []
    },
    {
      "cell_type": "code",
      "metadata": {
        "colab": {
          "base_uri": "https://localhost:8080/"
        },
        "id": "jFhQk_3Lyy2X",
        "outputId": "481dd769-4851-494c-c0ab-5d4fe8b88333"
      },
      "source": [
        "#Error for the predictions from model\n",
        "RMSLE(y_test,predictions)"
      ],
      "execution_count": null,
      "outputs": [
        {
          "output_type": "execute_result",
          "data": {
            "text/plain": [
              "0.44532494299023356"
            ]
          },
          "metadata": {},
          "execution_count": 80
        }
      ]
    },
    {
      "cell_type": "code",
      "metadata": {
        "colab": {
          "base_uri": "https://localhost:8080/"
        },
        "id": "809F6RYly0In",
        "outputId": "cbec8cb9-bf6c-4f97-a47c-10f741198f7e"
      },
      "source": [
        "y_train[0:10].values"
      ],
      "execution_count": null,
      "outputs": [
        {
          "output_type": "execute_result",
          "data": {
            "text/plain": [
              "array([1438,  410,  324,  531,  219,  324, 1301, 1207,  887,  743])"
            ]
          },
          "metadata": {},
          "execution_count": 81
        }
      ]
    },
    {
      "cell_type": "code",
      "metadata": {
        "colab": {
          "base_uri": "https://localhost:8080/"
        },
        "id": "BEPHTtfAy1fC",
        "outputId": "7adf3e04-4ee6-408d-d338-f6622697785a"
      },
      "source": [
        "predictions[0:10]"
      ],
      "execution_count": null,
      "outputs": [
        {
          "output_type": "execute_result",
          "data": {
            "text/plain": [
              "array([ 548.59556284,  756.87275426,  600.3821399 , 1353.62739344,\n",
              "       1647.84101839, 1229.60185824,  600.3893454 , 1259.47086532,\n",
              "        904.14274926,  736.51005842])"
            ]
          },
          "metadata": {},
          "execution_count": 82
        }
      ]
    },
    {
      "cell_type": "code",
      "metadata": {
        "colab": {
          "base_uri": "https://localhost:8080/",
          "height": 224
        },
        "id": "5Y4vXDTDy2vX",
        "outputId": "c161a707-e1ad-45df-cf8c-09393cbf8af4"
      },
      "source": [
        "df.head()"
      ],
      "execution_count": null,
      "outputs": [
        {
          "output_type": "execute_result",
          "data": {
            "text/html": [
              "<div>\n",
              "<style scoped>\n",
              "    .dataframe tbody tr th:only-of-type {\n",
              "        vertical-align: middle;\n",
              "    }\n",
              "\n",
              "    .dataframe tbody tr th {\n",
              "        vertical-align: top;\n",
              "    }\n",
              "\n",
              "    .dataframe thead th {\n",
              "        text-align: right;\n",
              "    }\n",
              "</style>\n",
              "<table border=\"1\" class=\"dataframe\">\n",
              "  <thead>\n",
              "    <tr style=\"text-align: right;\">\n",
              "      <th></th>\n",
              "      <th>vendor_id</th>\n",
              "      <th>passenger_count</th>\n",
              "      <th>store_and_fwd_flag</th>\n",
              "      <th>distance</th>\n",
              "      <th>pickup_month</th>\n",
              "      <th>pickup_day</th>\n",
              "      <th>pickup_hour</th>\n",
              "      <th>pickup_minute</th>\n",
              "      <th>pickup_second</th>\n",
              "      <th>dropoff_month</th>\n",
              "      <th>dropoff_day</th>\n",
              "      <th>dropoff_hour</th>\n",
              "      <th>dropoff_minute</th>\n",
              "      <th>dropoff_second</th>\n",
              "    </tr>\n",
              "  </thead>\n",
              "  <tbody>\n",
              "    <tr>\n",
              "      <th>0</th>\n",
              "      <td>2</td>\n",
              "      <td>1</td>\n",
              "      <td>0</td>\n",
              "      <td>1.498991</td>\n",
              "      <td>03</td>\n",
              "      <td>14</td>\n",
              "      <td>17</td>\n",
              "      <td>24</td>\n",
              "      <td>55</td>\n",
              "      <td>03</td>\n",
              "      <td>14</td>\n",
              "      <td>17</td>\n",
              "      <td>32</td>\n",
              "      <td>30</td>\n",
              "    </tr>\n",
              "    <tr>\n",
              "      <th>1</th>\n",
              "      <td>1</td>\n",
              "      <td>1</td>\n",
              "      <td>0</td>\n",
              "      <td>1.806074</td>\n",
              "      <td>06</td>\n",
              "      <td>12</td>\n",
              "      <td>00</td>\n",
              "      <td>43</td>\n",
              "      <td>35</td>\n",
              "      <td>06</td>\n",
              "      <td>12</td>\n",
              "      <td>00</td>\n",
              "      <td>54</td>\n",
              "      <td>38</td>\n",
              "    </tr>\n",
              "    <tr>\n",
              "      <th>2</th>\n",
              "      <td>2</td>\n",
              "      <td>1</td>\n",
              "      <td>0</td>\n",
              "      <td>6.387103</td>\n",
              "      <td>01</td>\n",
              "      <td>19</td>\n",
              "      <td>11</td>\n",
              "      <td>35</td>\n",
              "      <td>24</td>\n",
              "      <td>01</td>\n",
              "      <td>19</td>\n",
              "      <td>12</td>\n",
              "      <td>10</td>\n",
              "      <td>48</td>\n",
              "    </tr>\n",
              "    <tr>\n",
              "      <th>3</th>\n",
              "      <td>2</td>\n",
              "      <td>1</td>\n",
              "      <td>0</td>\n",
              "      <td>1.485965</td>\n",
              "      <td>04</td>\n",
              "      <td>06</td>\n",
              "      <td>19</td>\n",
              "      <td>32</td>\n",
              "      <td>31</td>\n",
              "      <td>04</td>\n",
              "      <td>06</td>\n",
              "      <td>19</td>\n",
              "      <td>39</td>\n",
              "      <td>40</td>\n",
              "    </tr>\n",
              "    <tr>\n",
              "      <th>4</th>\n",
              "      <td>2</td>\n",
              "      <td>1</td>\n",
              "      <td>0</td>\n",
              "      <td>1.188962</td>\n",
              "      <td>03</td>\n",
              "      <td>26</td>\n",
              "      <td>13</td>\n",
              "      <td>30</td>\n",
              "      <td>55</td>\n",
              "      <td>03</td>\n",
              "      <td>26</td>\n",
              "      <td>13</td>\n",
              "      <td>38</td>\n",
              "      <td>10</td>\n",
              "    </tr>\n",
              "  </tbody>\n",
              "</table>\n",
              "</div>"
            ],
            "text/plain": [
              "   vendor_id  passenger_count  ...  dropoff_minute  dropoff_second\n",
              "0          2                1  ...              32              30\n",
              "1          1                1  ...              54              38\n",
              "2          2                1  ...              10              48\n",
              "3          2                1  ...              39              40\n",
              "4          2                1  ...              38              10\n",
              "\n",
              "[5 rows x 14 columns]"
            ]
          },
          "metadata": {},
          "execution_count": 83
        }
      ]
    },
    {
      "cell_type": "code",
      "metadata": {
        "colab": {
          "base_uri": "https://localhost:8080/"
        },
        "id": "SdomIu8Dy4Xf",
        "outputId": "ecaf6a89-93ac-4502-aa1d-e59ee2709544"
      },
      "source": [
        "difference = y_test-predictions\n",
        "print(difference)"
      ],
      "execution_count": null,
      "outputs": [
        {
          "output_type": "stream",
          "name": "stdout",
          "text": [
            "1275832     -20.595563\n",
            "105702     -103.872754\n",
            "993657     -249.382140\n",
            "507796      143.372607\n",
            "508322      -86.841018\n",
            "              ...     \n",
            "438790      139.367587\n",
            "581829      -18.939677\n",
            "1116440     436.347477\n",
            "526926    -1004.014708\n",
            "852976      -59.344318\n",
            "Name: trip_duration, Length: 413692, dtype: float64\n"
          ]
        }
      ]
    },
    {
      "cell_type": "code",
      "metadata": {
        "colab": {
          "base_uri": "https://localhost:8080/",
          "height": 204
        },
        "id": "f75YqIlIy51Z",
        "outputId": "d3d513a8-dc70-4eb8-becb-095cf02bae31"
      },
      "source": [
        "difftable = pd.DataFrame({'Actual_Value': y_test, 'Predicted_Value': predictions, 'Difference': difference})\n",
        "difftable.head()"
      ],
      "execution_count": null,
      "outputs": [
        {
          "output_type": "execute_result",
          "data": {
            "text/html": [
              "<div>\n",
              "<style scoped>\n",
              "    .dataframe tbody tr th:only-of-type {\n",
              "        vertical-align: middle;\n",
              "    }\n",
              "\n",
              "    .dataframe tbody tr th {\n",
              "        vertical-align: top;\n",
              "    }\n",
              "\n",
              "    .dataframe thead th {\n",
              "        text-align: right;\n",
              "    }\n",
              "</style>\n",
              "<table border=\"1\" class=\"dataframe\">\n",
              "  <thead>\n",
              "    <tr style=\"text-align: right;\">\n",
              "      <th></th>\n",
              "      <th>Actual_Value</th>\n",
              "      <th>Predicted_Value</th>\n",
              "      <th>Difference</th>\n",
              "    </tr>\n",
              "  </thead>\n",
              "  <tbody>\n",
              "    <tr>\n",
              "      <th>1275832</th>\n",
              "      <td>528</td>\n",
              "      <td>548.595563</td>\n",
              "      <td>-20.595563</td>\n",
              "    </tr>\n",
              "    <tr>\n",
              "      <th>105702</th>\n",
              "      <td>653</td>\n",
              "      <td>756.872754</td>\n",
              "      <td>-103.872754</td>\n",
              "    </tr>\n",
              "    <tr>\n",
              "      <th>993657</th>\n",
              "      <td>351</td>\n",
              "      <td>600.382140</td>\n",
              "      <td>-249.382140</td>\n",
              "    </tr>\n",
              "    <tr>\n",
              "      <th>507796</th>\n",
              "      <td>1497</td>\n",
              "      <td>1353.627393</td>\n",
              "      <td>143.372607</td>\n",
              "    </tr>\n",
              "    <tr>\n",
              "      <th>508322</th>\n",
              "      <td>1561</td>\n",
              "      <td>1647.841018</td>\n",
              "      <td>-86.841018</td>\n",
              "    </tr>\n",
              "  </tbody>\n",
              "</table>\n",
              "</div>"
            ],
            "text/plain": [
              "         Actual_Value  Predicted_Value  Difference\n",
              "1275832           528       548.595563  -20.595563\n",
              "105702            653       756.872754 -103.872754\n",
              "993657            351       600.382140 -249.382140\n",
              "507796           1497      1353.627393  143.372607\n",
              "508322           1561      1647.841018  -86.841018"
            ]
          },
          "metadata": {},
          "execution_count": 85
        }
      ]
    },
    {
      "cell_type": "code",
      "metadata": {
        "colab": {
          "base_uri": "https://localhost:8080/",
          "height": 204
        },
        "id": "ylIH5a47y7N3",
        "outputId": "20816309-6dea-43ab-da32-52b59ad84215"
      },
      "source": [
        "difftable.tail()"
      ],
      "execution_count": null,
      "outputs": [
        {
          "output_type": "execute_result",
          "data": {
            "text/html": [
              "<div>\n",
              "<style scoped>\n",
              "    .dataframe tbody tr th:only-of-type {\n",
              "        vertical-align: middle;\n",
              "    }\n",
              "\n",
              "    .dataframe tbody tr th {\n",
              "        vertical-align: top;\n",
              "    }\n",
              "\n",
              "    .dataframe thead th {\n",
              "        text-align: right;\n",
              "    }\n",
              "</style>\n",
              "<table border=\"1\" class=\"dataframe\">\n",
              "  <thead>\n",
              "    <tr style=\"text-align: right;\">\n",
              "      <th></th>\n",
              "      <th>Actual_Value</th>\n",
              "      <th>Predicted_Value</th>\n",
              "      <th>Difference</th>\n",
              "    </tr>\n",
              "  </thead>\n",
              "  <tbody>\n",
              "    <tr>\n",
              "      <th>438790</th>\n",
              "      <td>1003</td>\n",
              "      <td>863.632413</td>\n",
              "      <td>139.367587</td>\n",
              "    </tr>\n",
              "    <tr>\n",
              "      <th>581829</th>\n",
              "      <td>685</td>\n",
              "      <td>703.939677</td>\n",
              "      <td>-18.939677</td>\n",
              "    </tr>\n",
              "    <tr>\n",
              "      <th>1116440</th>\n",
              "      <td>987</td>\n",
              "      <td>550.652523</td>\n",
              "      <td>436.347477</td>\n",
              "    </tr>\n",
              "    <tr>\n",
              "      <th>526926</th>\n",
              "      <td>1652</td>\n",
              "      <td>2656.014708</td>\n",
              "      <td>-1004.014708</td>\n",
              "    </tr>\n",
              "    <tr>\n",
              "      <th>852976</th>\n",
              "      <td>707</td>\n",
              "      <td>766.344318</td>\n",
              "      <td>-59.344318</td>\n",
              "    </tr>\n",
              "  </tbody>\n",
              "</table>\n",
              "</div>"
            ],
            "text/plain": [
              "         Actual_Value  Predicted_Value   Difference\n",
              "438790           1003       863.632413   139.367587\n",
              "581829            685       703.939677   -18.939677\n",
              "1116440           987       550.652523   436.347477\n",
              "526926           1652      2656.014708 -1004.014708\n",
              "852976            707       766.344318   -59.344318"
            ]
          },
          "metadata": {},
          "execution_count": 86
        }
      ]
    }
  ]
}